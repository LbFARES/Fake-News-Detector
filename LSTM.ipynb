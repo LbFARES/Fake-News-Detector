{
  "nbformat": 4,
  "nbformat_minor": 0,
  "metadata": {
    "colab": {
      "name": "LSTM",
      "provenance": [],
      "authorship_tag": "ABX9TyMhhBXipxzIOM/m4jF9/qhM",
      "include_colab_link": true
    },
    "kernelspec": {
      "name": "python3",
      "display_name": "Python 3"
    },
    "language_info": {
      "name": "python"
    }
  },
  "cells": [
    {
      "cell_type": "markdown",
      "metadata": {
        "id": "view-in-github",
        "colab_type": "text"
      },
      "source": [
        "<a href=\"https://colab.research.google.com/github/LbFARES/Fake-News-Detector/blob/main/LSTM.ipynb\" target=\"_parent\"><img src=\"https://colab.research.google.com/assets/colab-badge.svg\" alt=\"Open In Colab\"/></a>"
      ]
    },
    {
      "cell_type": "code",
      "execution_count": 8,
      "metadata": {
        "id": "fa5gIR3PBzF5"
      },
      "outputs": [],
      "source": [
        "import numpy as np\n",
        "import tensorflow as tf\n",
        "from keras.datasets import imdb\n",
        "from keras.layers import LSTM, Embedding, Dense\n",
        "\n",
        "#from keras.preprocessing.sequence import pad_sequence\n",
        "\n",
        "from keras.models import Sequential\n"
      ]
    },
    {
      "cell_type": "code",
      "source": [
        "# fix random seed for reproducibility\n",
        "np.random.seed(1)\n",
        "# load the dataset but only keep the top 6000 words\n",
        "(X_train, y_train), (X_test, y_test) = imdb.load_data(num_words=20000)\n",
        "# pad input sequences\n",
        "X_train = tf.keras.preprocessing.sequence.pad_sequences(X_train, maxlen=200)\n",
        "X_test = tf.keras.preprocessing.sequence.pad_sequences(X_test, maxlen=200)"
      ],
      "metadata": {
        "id": "afqbcBKrGStG"
      },
      "execution_count": 9,
      "outputs": []
    },
    {
      "cell_type": "code",
      "source": [
        "#model\n",
        "model = Sequential()\n",
        "model.add(Embedding(20000, 32, input_length=200))\n",
        "model.add(LSTM(100))\n",
        "model.add(Dense(1, activation='sigmoid'))\n",
        "model.compile(loss='binary_crossentropy', optimizer='adam', metrics=['accuracy'])\n",
        "print(model.summary())\n"
      ],
      "metadata": {
        "colab": {
          "base_uri": "https://localhost:8080/"
        },
        "id": "YSNBstGkGXa0",
        "outputId": "61a7048d-fb92-42f4-eb6b-b7d536bdad2e"
      },
      "execution_count": 10,
      "outputs": [
        {
          "output_type": "stream",
          "name": "stdout",
          "text": [
            "Model: \"sequential_4\"\n",
            "_________________________________________________________________\n",
            " Layer (type)                Output Shape              Param #   \n",
            "=================================================================\n",
            " embedding_4 (Embedding)     (None, 200, 32)           640000    \n",
            "                                                                 \n",
            " lstm_4 (LSTM)               (None, 100)               53200     \n",
            "                                                                 \n",
            " dense_4 (Dense)             (None, 1)                 101       \n",
            "                                                                 \n",
            "=================================================================\n",
            "Total params: 693,301\n",
            "Trainable params: 693,301\n",
            "Non-trainable params: 0\n",
            "_________________________________________________________________\n",
            "None\n"
          ]
        }
      ]
    },
    {
      "cell_type": "code",
      "source": [
        "history = model.fit(X_train,y_train,shuffle=True, epochs=3,\n",
        "                    verbose=1,validation_split=0.1)"
      ],
      "metadata": {
        "colab": {
          "base_uri": "https://localhost:8080/"
        },
        "id": "0ueTC6S0B67x",
        "outputId": "04691652-2be5-4f28-887e-13ab6baa48be"
      },
      "execution_count": 11,
      "outputs": [
        {
          "output_type": "stream",
          "name": "stdout",
          "text": [
            "Epoch 1/3\n",
            "704/704 [==============================] - 111s 155ms/step - loss: 0.4196 - accuracy: 0.8060 - val_loss: 0.3584 - val_accuracy: 0.8436\n",
            "Epoch 2/3\n",
            "704/704 [==============================] - 110s 156ms/step - loss: 0.2431 - accuracy: 0.9076 - val_loss: 0.3222 - val_accuracy: 0.8672\n",
            "Epoch 3/3\n",
            "704/704 [==============================] - 112s 158ms/step - loss: 0.1560 - accuracy: 0.9439 - val_loss: 0.3999 - val_accuracy: 0.8584\n"
          ]
        }
      ]
    },
    {
      "cell_type": "code",
      "source": [
        ""
      ],
      "metadata": {
        "id": "Yvzs4aKyDfdX"
      },
      "execution_count": null,
      "outputs": []
    }
  ]
}